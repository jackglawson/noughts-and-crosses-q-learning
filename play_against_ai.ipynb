{
 "cells": [
  {
   "cell_type": "code",
   "execution_count": 12,
   "metadata": {},
   "outputs": [],
   "source": [
    "import pickle\n",
    "from strategy import *\n",
    "from n_and_c_game_dependents import *\n",
    "from game import *\n",
    "from n_and_c_params import *"
   ]
  },
  {
   "cell_type": "code",
   "execution_count": 13,
   "metadata": {},
   "outputs": [],
   "source": [
    "with open(\"learning_strategies.pkl\", \"rb\") as file:\n",
    "    strategies = pickle.load(file)"
   ]
  },
  {
   "cell_type": "code",
   "execution_count": 14,
   "metadata": {},
   "outputs": [],
   "source": [
    "sx, so = strategies\n",
    "so.p.learning = False\n",
    "sx.p.learning = False"
   ]
  },
  {
   "cell_type": "code",
   "execution_count": 16,
   "metadata": {
    "scrolled": false
   },
   "outputs": [
    {
     "name": "stdout",
     "output_type": "stream",
     "text": [
      "   |   |   \n",
      "───────────\n",
      "   |   |   \n",
      "───────────\n",
      "   |   |   \n",
      "\n",
      "\n",
      "   |   |   \n",
      "───────────\n",
      "   | x |   \n",
      "───────────\n",
      "   |   |   \n",
      "\n",
      "\n",
      "Please input move in the form {row}{column}: 00\n",
      " o |   |   \n",
      "───────────\n",
      "   | x |   \n",
      "───────────\n",
      "   |   |   \n",
      "\n",
      "\n",
      " o |   |   \n",
      "───────────\n",
      "   | x |   \n",
      "───────────\n",
      " x |   |   \n",
      "\n",
      "\n",
      "Please input move in the form {row}{column}: 02\n",
      " o |   | o \n",
      "───────────\n",
      "   | x |   \n",
      "───────────\n",
      " x |   |   \n",
      "\n",
      "\n",
      " o | x | o \n",
      "───────────\n",
      "   | x |   \n",
      "───────────\n",
      " x |   |   \n",
      "\n",
      "\n",
      "Please input move in the form {row}{column}: 21\n",
      " o | x | o \n",
      "───────────\n",
      "   | x |   \n",
      "───────────\n",
      " x | o |   \n",
      "\n",
      "\n",
      " o | x | o \n",
      "───────────\n",
      "   | x | x \n",
      "───────────\n",
      " x | o |   \n",
      "\n",
      "\n",
      "Please input move in the form {row}{column}: 10\n",
      " o | x | o \n",
      "───────────\n",
      " o | x | x \n",
      "───────────\n",
      " x | o |   \n",
      "\n",
      "\n",
      " o | x | o \n",
      "───────────\n",
      " o | x | x \n",
      "───────────\n",
      " x | o | x \n",
      "\n",
      "\n",
      "It's a draw!\n"
     ]
    }
   ],
   "source": [
    "u = UserInput()\n",
    "game = Game(2, [sx, u])\n",
    "game.play(narrate=True, explain=False)"
   ]
  },
  {
   "cell_type": "code",
   "execution_count": null,
   "metadata": {},
   "outputs": [],
   "source": []
  }
 ],
 "metadata": {
  "kernelspec": {
   "display_name": "Python 3",
   "language": "python",
   "name": "python3"
  },
  "language_info": {
   "codemirror_mode": {
    "name": "ipython",
    "version": 3
   },
   "file_extension": ".py",
   "mimetype": "text/x-python",
   "name": "python",
   "nbconvert_exporter": "python",
   "pygments_lexer": "ipython3",
   "version": "3.8.6"
  }
 },
 "nbformat": 4,
 "nbformat_minor": 4
}
