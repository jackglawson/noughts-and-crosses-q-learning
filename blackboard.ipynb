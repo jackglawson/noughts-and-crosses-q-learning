{
 "cells": [
  {
   "cell_type": "code",
   "execution_count": 7,
   "metadata": {},
   "outputs": [],
   "source": [
    "import pickle\n",
    "from strategy import *\n",
    "from n_and_c_game_dependents import *\n",
    "from game import *\n",
    "from n_and_c_settings import *"
   ]
  },
  {
   "cell_type": "code",
   "execution_count": 10,
   "metadata": {},
   "outputs": [],
   "source": [
    "with open(\"learning_strategy.pkl\", \"rb\") as file:\n",
    "    strategy = pickle.load(file)"
   ]
  },
  {
   "cell_type": "code",
   "execution_count": 11,
   "metadata": {},
   "outputs": [
    {
     "data": {
      "text/plain": [
       "{[['-', '-', '-'], ['-', '-', '-'], ['-', '-', '-']]: State(pure_state=[['-', '-', '-'], ['-', '-', '-'], ['-', '-', '-']]),\n",
       " [['-', '-', '-'], ['-', '-', '-'], ['-', 'x', '-']]: State(pure_state=[['-', '-', '-'], ['-', '-', '-'], ['-', 'x', '-']]),\n",
       " [['x', '-', '-'], ['-', '-', '-'], ['-', 'x', '-']]: State(pure_state=[['x', '-', '-'], ['-', '-', '-'], ['-', 'x', '-']]),\n",
       " [['x', '-', '-'], ['-', 'x', '-'], ['-', 'x', '-']]: State(pure_state=[['x', '-', '-'], ['-', 'x', '-'], ['-', 'x', '-']]),\n",
       " [['x', '-', 'x'], ['-', 'x', '-'], ['-', 'x', '-']]: State(pure_state=[['x', '-', 'x'], ['-', 'x', '-'], ['-', 'x', '-']]),\n",
       " [['-', '-', '-'], ['x', '-', '-'], ['-', '-', '-']]: State(pure_state=[['-', '-', '-'], ['x', '-', '-'], ['-', '-', '-']]),\n",
       " [['-', '-', 'x'], ['x', '-', '-'], ['-', '-', '-']]: State(pure_state=[['-', '-', 'x'], ['x', '-', '-'], ['-', '-', '-']]),\n",
       " [['-', '-', 'x'], ['x', '-', '-'], ['-', '-', 'x']]: State(pure_state=[['-', '-', 'x'], ['x', '-', '-'], ['-', '-', 'x']]),\n",
       " [['-', '-', '-'], ['-', '-', 'x'], ['-', '-', '-']]: State(pure_state=[['-', '-', '-'], ['-', '-', 'x'], ['-', '-', '-']]),\n",
       " [['-', '-', '-'], ['-', '-', 'x'], ['-', '-', 'x']]: State(pure_state=[['-', '-', '-'], ['-', '-', 'x'], ['-', '-', 'x']]),\n",
       " [['-', '-', '-'], ['-', '-', 'x'], ['x', '-', 'x']]: State(pure_state=[['-', '-', '-'], ['-', '-', 'x'], ['x', '-', 'x']]),\n",
       " [['x', '-', '-'], ['-', '-', 'x'], ['x', '-', 'x']]: State(pure_state=[['x', '-', '-'], ['-', '-', 'x'], ['x', '-', 'x']]),\n",
       " [['x', '-', '-'], ['-', '-', '-'], ['-', '-', '-']]: State(pure_state=[['x', '-', '-'], ['-', '-', '-'], ['-', '-', '-']]),\n",
       " [['x', '-', '-'], ['x', '-', '-'], ['-', 'x', '-']]: State(pure_state=[['x', '-', '-'], ['x', '-', '-'], ['-', 'x', '-']]),\n",
       " [['x', 'x', '-'], ['x', '-', '-'], ['-', 'x', '-']]: State(pure_state=[['x', 'x', '-'], ['x', '-', '-'], ['-', 'x', '-']]),\n",
       " [['x', 'x', '-'], ['x', '-', '-'], ['-', 'x', 'x']]: State(pure_state=[['x', 'x', '-'], ['x', '-', '-'], ['-', 'x', 'x']]),\n",
       " [['-', '-', '-'], ['-', '-', '-'], ['x', 'x', '-']]: State(pure_state=[['-', '-', '-'], ['-', '-', '-'], ['x', 'x', '-']]),\n",
       " [['x', '-', '-'], ['-', '-', '-'], ['x', 'x', '-']]: State(pure_state=[['x', '-', '-'], ['-', '-', '-'], ['x', 'x', '-']]),\n",
       " [['x', '-', '-'], ['-', '-', 'x'], ['x', 'x', '-']]: State(pure_state=[['x', '-', '-'], ['-', '-', 'x'], ['x', 'x', '-']]),\n",
       " [['-', '-', 'x'], ['-', '-', '-'], ['-', '-', '-']]: State(pure_state=[['-', '-', 'x'], ['-', '-', '-'], ['-', '-', '-']]),\n",
       " [['-', '-', 'x'], ['x', '-', '-'], ['x', '-', '-']]: State(pure_state=[['-', '-', 'x'], ['x', '-', '-'], ['x', '-', '-']]),\n",
       " [['-', '-', 'x'], ['x', '-', '-'], ['x', 'x', '-']]: State(pure_state=[['-', '-', 'x'], ['x', '-', '-'], ['x', 'x', '-']]),\n",
       " [['x', '-', '-'], ['-', 'x', '-'], ['-', '-', '-']]: State(pure_state=[['x', '-', '-'], ['-', 'x', '-'], ['-', '-', '-']]),\n",
       " [['x', 'x', '-'], ['-', 'x', '-'], ['-', '-', '-']]: State(pure_state=[['x', 'x', '-'], ['-', 'x', '-'], ['-', '-', '-']]),\n",
       " [['-', '-', '-'], ['-', '-', '-'], ['x', '-', '-']]: State(pure_state=[['-', '-', '-'], ['-', '-', '-'], ['x', '-', '-']]),\n",
       " [['-', '-', '-'], ['x', '-', '-'], ['x', '-', '-']]: State(pure_state=[['-', '-', '-'], ['x', '-', '-'], ['x', '-', '-']]),\n",
       " [['-', '-', '-'], ['x', '-', '-'], ['x', '-', 'x']]: State(pure_state=[['-', '-', '-'], ['x', '-', '-'], ['x', '-', 'x']]),\n",
       " [['x', 'x', '-'], ['-', '-', '-'], ['-', '-', '-']]: State(pure_state=[['x', 'x', '-'], ['-', '-', '-'], ['-', '-', '-']]),\n",
       " [['-', '-', 'x'], ['-', 'x', '-'], ['-', '-', '-']]: State(pure_state=[['-', '-', 'x'], ['-', 'x', '-'], ['-', '-', '-']]),\n",
       " [['-', '-', 'x'], ['x', 'x', '-'], ['-', '-', '-']]: State(pure_state=[['-', '-', 'x'], ['x', 'x', '-'], ['-', '-', '-']]),\n",
       " [['-', '-', 'x'], ['x', 'x', '-'], ['-', '-', 'x']]: State(pure_state=[['-', '-', 'x'], ['x', 'x', '-'], ['-', '-', 'x']]),\n",
       " [['-', 'x', 'x'], ['x', 'x', '-'], ['-', '-', 'x']]: State(pure_state=[['-', 'x', 'x'], ['x', 'x', '-'], ['-', '-', 'x']]),\n",
       " [['-', '-', '-'], ['-', '-', 'x'], ['-', 'x', '-']]: State(pure_state=[['-', '-', '-'], ['-', '-', 'x'], ['-', 'x', '-']]),\n",
       " [['x', '-', '-'], ['-', '-', 'x'], ['-', 'x', '-']]: State(pure_state=[['x', '-', '-'], ['-', '-', 'x'], ['-', 'x', '-']]),\n",
       " [['x', '-', 'x'], ['-', '-', 'x'], ['-', 'x', '-']]: State(pure_state=[['x', '-', 'x'], ['-', '-', 'x'], ['-', 'x', '-']]),\n",
       " [['x', '-', 'x'], ['-', '-', 'x'], ['x', 'x', '-']]: State(pure_state=[['x', '-', 'x'], ['-', '-', 'x'], ['x', 'x', '-']]),\n",
       " [['-', '-', '-'], ['-', '-', '-'], ['-', 'x', 'x']]: State(pure_state=[['-', '-', '-'], ['-', '-', '-'], ['-', 'x', 'x']]),\n",
       " [['-', '-', 'x'], ['-', '-', '-'], ['x', '-', '-']]: State(pure_state=[['-', '-', 'x'], ['-', '-', '-'], ['x', '-', '-']]),\n",
       " [['x', '-', '-'], ['x', '-', '-'], ['-', '-', '-']]: State(pure_state=[['x', '-', '-'], ['x', '-', '-'], ['-', '-', '-']]),\n",
       " [['x', '-', 'x'], ['x', '-', '-'], ['-', 'x', '-']]: State(pure_state=[['x', '-', 'x'], ['x', '-', '-'], ['-', 'x', '-']]),\n",
       " [['x', '-', 'x'], ['x', '-', '-'], ['-', 'x', 'x']]: State(pure_state=[['x', '-', 'x'], ['x', '-', '-'], ['-', 'x', 'x']]),\n",
       " [['-', '-', '-'], ['x', '-', 'x'], ['-', '-', '-']]: State(pure_state=[['-', '-', '-'], ['x', '-', 'x'], ['-', '-', '-']]),\n",
       " [['-', '-', '-'], ['x', '-', 'x'], ['x', '-', '-']]: State(pure_state=[['-', '-', '-'], ['x', '-', 'x'], ['x', '-', '-']]),\n",
       " [['-', '-', '-'], ['x', '-', 'x'], ['x', 'x', '-']]: State(pure_state=[['-', '-', '-'], ['x', '-', 'x'], ['x', 'x', '-']]),\n",
       " [['-', '-', 'x'], ['x', '-', 'x'], ['x', 'x', '-']]: State(pure_state=[['-', '-', 'x'], ['x', '-', 'x'], ['x', 'x', '-']]),\n",
       " [['x', '-', 'x'], ['-', '-', '-'], ['-', '-', '-']]: State(pure_state=[['x', '-', 'x'], ['-', '-', '-'], ['-', '-', '-']]),\n",
       " [['x', '-', 'x'], ['x', '-', '-'], ['-', '-', '-']]: State(pure_state=[['x', '-', 'x'], ['x', '-', '-'], ['-', '-', '-']]),\n",
       " [['x', '-', 'x'], ['x', '-', 'x'], ['-', '-', '-']]: State(pure_state=[['x', '-', 'x'], ['x', '-', 'x'], ['-', '-', '-']]),\n",
       " [['-', '-', 'x'], ['-', '-', 'x'], ['x', '-', '-']]: State(pure_state=[['-', '-', 'x'], ['-', '-', 'x'], ['x', '-', '-']]),\n",
       " [['-', '-', '-'], ['x', 'x', '-'], ['x', '-', 'x']]: State(pure_state=[['-', '-', '-'], ['x', 'x', '-'], ['x', '-', 'x']]),\n",
       " [['-', 'x', '-'], ['-', '-', '-'], ['-', 'x', '-']]: State(pure_state=[['-', 'x', '-'], ['-', '-', '-'], ['-', 'x', '-']]),\n",
       " [['-', 'x', '-'], ['x', '-', '-'], ['-', 'x', '-']]: State(pure_state=[['-', 'x', '-'], ['x', '-', '-'], ['-', 'x', '-']]),\n",
       " [['-', 'x', '-'], ['x', '-', 'x'], ['-', 'x', '-']]: State(pure_state=[['-', 'x', '-'], ['x', '-', 'x'], ['-', 'x', '-']]),\n",
       " [['-', 'x', '-'], ['x', '-', 'x'], ['x', 'x', '-']]: State(pure_state=[['-', 'x', '-'], ['x', '-', 'x'], ['x', 'x', '-']]),\n",
       " [['x', '-', '-'], ['-', '-', '-'], ['x', '-', '-']]: State(pure_state=[['x', '-', '-'], ['-', '-', '-'], ['x', '-', '-']]),\n",
       " [['-', '-', 'x'], ['-', '-', 'x'], ['-', '-', '-']]: State(pure_state=[['-', '-', 'x'], ['-', '-', 'x'], ['-', '-', '-']]),\n",
       " [['-', '-', 'x'], ['x', '-', 'x'], ['-', '-', '-']]: State(pure_state=[['-', '-', 'x'], ['x', '-', 'x'], ['-', '-', '-']]),\n",
       " [['-', '-', '-'], ['-', '-', '-'], ['-', '-', 'x']]: State(pure_state=[['-', '-', '-'], ['-', '-', '-'], ['-', '-', 'x']]),\n",
       " [['-', '-', '-'], ['x', '-', '-'], ['-', 'x', 'x']]: State(pure_state=[['-', '-', '-'], ['x', '-', '-'], ['-', 'x', 'x']]),\n",
       " [['-', 'x', '-'], ['-', '-', '-'], ['-', '-', '-']]: State(pure_state=[['-', 'x', '-'], ['-', '-', '-'], ['-', '-', '-']]),\n",
       " [['-', 'x', '-'], ['x', '-', '-'], ['-', '-', '-']]: State(pure_state=[['-', 'x', '-'], ['x', '-', '-'], ['-', '-', '-']]),\n",
       " [['-', 'x', 'x'], ['x', '-', '-'], ['-', '-', '-']]: State(pure_state=[['-', 'x', 'x'], ['x', '-', '-'], ['-', '-', '-']]),\n",
       " [['-', 'x', 'x'], ['x', '-', '-'], ['x', '-', '-']]: State(pure_state=[['-', 'x', 'x'], ['x', '-', '-'], ['x', '-', '-']]),\n",
       " [['-', 'x', '-'], ['-', '-', '-'], ['x', '-', '-']]: State(pure_state=[['-', 'x', '-'], ['-', '-', '-'], ['x', '-', '-']]),\n",
       " [['-', 'x', '-'], ['-', '-', 'x'], ['x', '-', '-']]: State(pure_state=[['-', 'x', '-'], ['-', '-', 'x'], ['x', '-', '-']]),\n",
       " [['-', 'x', 'x'], ['-', '-', 'x'], ['x', '-', '-']]: State(pure_state=[['-', 'x', 'x'], ['-', '-', 'x'], ['x', '-', '-']]),\n",
       " [['x', 'x', '-'], ['-', '-', '-'], ['-', '-', 'x']]: State(pure_state=[['x', 'x', '-'], ['-', '-', '-'], ['-', '-', 'x']]),\n",
       " [['x', 'x', '-'], ['x', '-', '-'], ['-', '-', 'x']]: State(pure_state=[['x', 'x', '-'], ['x', '-', '-'], ['-', '-', 'x']]),\n",
       " [['-', 'x', '-'], ['-', '-', '-'], ['-', 'x', 'x']]: State(pure_state=[['-', 'x', '-'], ['-', '-', '-'], ['-', 'x', 'x']]),\n",
       " [['x', 'x', '-'], ['-', '-', '-'], ['-', 'x', 'x']]: State(pure_state=[['x', 'x', '-'], ['-', '-', '-'], ['-', 'x', 'x']]),\n",
       " [['x', 'x', '-'], ['-', '-', 'x'], ['-', 'x', 'x']]: State(pure_state=[['x', 'x', '-'], ['-', '-', 'x'], ['-', 'x', 'x']]),\n",
       " [['-', 'x', '-'], ['-', '-', 'x'], ['-', '-', '-']]: State(pure_state=[['-', 'x', '-'], ['-', '-', 'x'], ['-', '-', '-']]),\n",
       " [['-', 'x', '-'], ['-', '-', 'x'], ['-', 'x', '-']]: State(pure_state=[['-', 'x', '-'], ['-', '-', 'x'], ['-', 'x', '-']]),\n",
       " [['-', 'x', '-'], ['-', '-', 'x'], ['-', 'x', 'x']]: State(pure_state=[['-', 'x', '-'], ['-', '-', 'x'], ['-', 'x', 'x']]),\n",
       " [['-', '-', '-'], ['-', 'x', '-'], ['-', '-', '-']]: State(pure_state=[['-', '-', '-'], ['-', 'x', '-'], ['-', '-', '-']]),\n",
       " [['-', '-', '-'], ['-', 'x', '-'], ['-', '-', 'x']]: State(pure_state=[['-', '-', '-'], ['-', 'x', '-'], ['-', '-', 'x']]),\n",
       " [['-', 'x', '-'], ['-', 'x', '-'], ['-', '-', 'x']]: State(pure_state=[['-', 'x', '-'], ['-', 'x', '-'], ['-', '-', 'x']]),\n",
       " [['-', 'x', '-'], ['-', 'x', '-'], ['x', '-', 'x']]: State(pure_state=[['-', 'x', '-'], ['-', 'x', '-'], ['x', '-', 'x']]),\n",
       " [['x', 'x', '-'], ['x', '-', 'x'], ['-', 'x', 'x']]: State(pure_state=[['x', 'x', '-'], ['x', '-', 'x'], ['-', 'x', 'x']]),\n",
       " [['x', '-', '-'], ['x', '-', 'x'], ['-', '-', '-']]: State(pure_state=[['x', '-', '-'], ['x', '-', 'x'], ['-', '-', '-']]),\n",
       " [['x', '-', '-'], ['x', '-', 'x'], ['-', '-', 'x']]: State(pure_state=[['x', '-', '-'], ['x', '-', 'x'], ['-', '-', 'x']]),\n",
       " [['-', '-', '-'], ['x', '-', 'x'], ['-', '-', 'x']]: State(pure_state=[['-', '-', '-'], ['x', '-', 'x'], ['-', '-', 'x']]),\n",
       " [['-', '-', '-'], ['x', '-', 'x'], ['x', '-', 'x']]: State(pure_state=[['-', '-', '-'], ['x', '-', 'x'], ['x', '-', 'x']]),\n",
       " [['-', '-', '-'], ['-', '-', 'x'], ['x', '-', '-']]: State(pure_state=[['-', '-', '-'], ['-', '-', 'x'], ['x', '-', '-']]),\n",
       " [['-', 'x', '-'], ['x', '-', 'x'], ['x', '-', '-']]: State(pure_state=[['-', 'x', '-'], ['x', '-', 'x'], ['x', '-', '-']]),\n",
       " [['-', 'x', '-'], ['x', '-', 'x'], ['x', '-', 'x']]: State(pure_state=[['-', 'x', '-'], ['x', '-', 'x'], ['x', '-', 'x']]),\n",
       " [['-', 'x', 'x'], ['-', '-', '-'], ['-', '-', '-']]: State(pure_state=[['-', 'x', 'x'], ['-', '-', '-'], ['-', '-', '-']]),\n",
       " [['-', 'x', 'x'], ['-', 'x', '-'], ['-', '-', '-']]: State(pure_state=[['-', 'x', 'x'], ['-', 'x', '-'], ['-', '-', '-']]),\n",
       " [['-', 'x', 'x'], ['x', 'x', '-'], ['-', '-', '-']]: State(pure_state=[['-', 'x', 'x'], ['x', 'x', '-'], ['-', '-', '-']]),\n",
       " [['-', '-', '-'], ['-', 'x', '-'], ['x', '-', 'x']]: State(pure_state=[['-', '-', '-'], ['-', 'x', '-'], ['x', '-', 'x']]),\n",
       " [['-', '-', 'x'], ['-', '-', '-'], ['-', 'x', '-']]: State(pure_state=[['-', '-', 'x'], ['-', '-', '-'], ['-', 'x', '-']]),\n",
       " [['x', '-', 'x'], ['-', '-', '-'], ['-', 'x', '-']]: State(pure_state=[['x', '-', 'x'], ['-', '-', '-'], ['-', 'x', '-']]),\n",
       " [['-', '-', '-'], ['-', 'x', 'x'], ['-', '-', '-']]: State(pure_state=[['-', '-', '-'], ['-', 'x', 'x'], ['-', '-', '-']]),\n",
       " [['-', '-', '-'], ['-', 'x', 'x'], ['-', '-', 'x']]: State(pure_state=[['-', '-', '-'], ['-', 'x', 'x'], ['-', '-', 'x']]),\n",
       " [['-', '-', '-'], ['-', 'x', 'x'], ['x', '-', 'x']]: State(pure_state=[['-', '-', '-'], ['-', 'x', 'x'], ['x', '-', 'x']]),\n",
       " [['-', '-', 'x'], ['-', '-', '-'], ['-', '-', 'x']]: State(pure_state=[['-', '-', 'x'], ['-', '-', '-'], ['-', '-', 'x']]),\n",
       " [['x', '-', '-'], ['-', '-', 'x'], ['-', '-', 'x']]: State(pure_state=[['x', '-', '-'], ['-', '-', 'x'], ['-', '-', 'x']]),\n",
       " [['x', 'x', '-'], ['-', '-', 'x'], ['x', '-', 'x']]: State(pure_state=[['x', 'x', '-'], ['-', '-', 'x'], ['x', '-', 'x']]),\n",
       " [['x', 'x', '-'], ['-', '-', 'x'], ['-', '-', 'x']]: State(pure_state=[['x', 'x', '-'], ['-', '-', 'x'], ['-', '-', 'x']]),\n",
       " [['x', 'x', '-'], ['-', 'x', 'x'], ['-', '-', '-']]: State(pure_state=[['x', 'x', '-'], ['-', 'x', 'x'], ['-', '-', '-']]),\n",
       " [['-', 'x', '-'], ['-', '-', 'x'], ['-', '-', 'x']]: State(pure_state=[['-', 'x', '-'], ['-', '-', 'x'], ['-', '-', 'x']]),\n",
       " [['-', 'x', '-'], ['x', '-', 'x'], ['-', '-', 'x']]: State(pure_state=[['-', 'x', '-'], ['x', '-', 'x'], ['-', '-', 'x']]),\n",
       " [['-', 'x', '-'], ['x', '-', 'x'], ['-', 'x', 'x']]: State(pure_state=[['-', 'x', '-'], ['x', '-', 'x'], ['-', 'x', 'x']]),\n",
       " [['x', '-', '-'], ['-', 'x', 'x'], ['-', 'x', '-']]: State(pure_state=[['x', '-', '-'], ['-', 'x', 'x'], ['-', 'x', '-']]),\n",
       " [['x', '-', 'x'], ['-', '-', '-'], ['x', '-', '-']]: State(pure_state=[['x', '-', 'x'], ['-', '-', '-'], ['x', '-', '-']]),\n",
       " [['-', '-', '-'], ['-', '-', '-'], ['x', '-', 'x']]: State(pure_state=[['-', '-', '-'], ['-', '-', '-'], ['x', '-', 'x']]),\n",
       " [['x', '-', '-'], ['-', '-', '-'], ['x', '-', 'x']]: State(pure_state=[['x', '-', '-'], ['-', '-', '-'], ['x', '-', 'x']]),\n",
       " [['x', '-', 'x'], ['-', '-', '-'], ['x', '-', 'x']]: State(pure_state=[['x', '-', 'x'], ['-', '-', '-'], ['x', '-', 'x']]),\n",
       " [['-', '-', '-'], ['-', '-', 'x'], ['-', 'x', 'x']]: State(pure_state=[['-', '-', '-'], ['-', '-', 'x'], ['-', 'x', 'x']]),\n",
       " [['-', '-', '-'], ['x', '-', 'x'], ['-', 'x', 'x']]: State(pure_state=[['-', '-', '-'], ['x', '-', 'x'], ['-', 'x', 'x']]),\n",
       " [['-', '-', '-'], ['-', 'x', '-'], ['-', 'x', '-']]: State(pure_state=[['-', '-', '-'], ['-', 'x', '-'], ['-', 'x', '-']]),\n",
       " [['-', '-', 'x'], ['-', '-', '-'], ['x', '-', 'x']]: State(pure_state=[['-', '-', 'x'], ['-', '-', '-'], ['x', '-', 'x']]),\n",
       " [['-', '-', '-'], ['x', '-', '-'], ['x', 'x', '-']]: State(pure_state=[['-', '-', '-'], ['x', '-', '-'], ['x', 'x', '-']]),\n",
       " [['-', 'x', 'x'], ['x', '-', '-'], ['x', 'x', '-']]: State(pure_state=[['-', 'x', 'x'], ['x', '-', '-'], ['x', 'x', '-']]),\n",
       " [['-', '-', '-'], ['-', 'x', '-'], ['x', '-', '-']]: State(pure_state=[['-', '-', '-'], ['-', 'x', '-'], ['x', '-', '-']]),\n",
       " [['-', '-', '-'], ['-', 'x', '-'], ['x', 'x', '-']]: State(pure_state=[['-', '-', '-'], ['-', 'x', '-'], ['x', 'x', '-']]),\n",
       " [['-', '-', '-'], ['-', 'x', 'x'], ['x', 'x', '-']]: State(pure_state=[['-', '-', '-'], ['-', 'x', 'x'], ['x', 'x', '-']]),\n",
       " [['-', '-', 'x'], ['-', '-', '-'], ['x', 'x', '-']]: State(pure_state=[['-', '-', 'x'], ['-', '-', '-'], ['x', 'x', '-']]),\n",
       " [['-', 'x', '-'], ['-', 'x', '-'], ['-', '-', '-']]: State(pure_state=[['-', 'x', '-'], ['-', 'x', '-'], ['-', '-', '-']]),\n",
       " [['-', 'x', '-'], ['-', 'x', 'x'], ['-', '-', '-']]: State(pure_state=[['-', 'x', '-'], ['-', 'x', 'x'], ['-', '-', '-']]),\n",
       " [['-', 'x', 'x'], ['-', 'x', 'x'], ['-', '-', '-']]: State(pure_state=[['-', 'x', 'x'], ['-', 'x', 'x'], ['-', '-', '-']]),\n",
       " [['x', 'x', '-'], ['-', '-', 'x'], ['-', '-', '-']]: State(pure_state=[['x', 'x', '-'], ['-', '-', 'x'], ['-', '-', '-']]),\n",
       " [['-', '-', '-'], ['x', 'x', '-'], ['x', '-', '-']]: State(pure_state=[['-', '-', '-'], ['x', 'x', '-'], ['x', '-', '-']]),\n",
       " [['x', '-', '-'], ['-', '-', '-'], ['-', '-', 'x']]: State(pure_state=[['x', '-', '-'], ['-', '-', '-'], ['-', '-', 'x']]),\n",
       " [['x', '-', '-'], ['x', '-', '-'], ['-', '-', 'x']]: State(pure_state=[['x', '-', '-'], ['x', '-', '-'], ['-', '-', 'x']]),\n",
       " [['-', '-', '-'], ['-', 'x', '-'], ['-', 'x', 'x']]: State(pure_state=[['-', '-', '-'], ['-', 'x', '-'], ['-', 'x', 'x']]),\n",
       " [['-', '-', '-'], ['-', 'x', 'x'], ['-', 'x', 'x']]: State(pure_state=[['-', '-', '-'], ['-', 'x', 'x'], ['-', 'x', 'x']]),\n",
       " [['-', 'x', '-'], ['-', '-', '-'], ['x', '-', 'x']]: State(pure_state=[['-', 'x', '-'], ['-', '-', '-'], ['x', '-', 'x']]),\n",
       " [['x', 'x', '-'], ['-', '-', '-'], ['x', '-', 'x']]: State(pure_state=[['x', 'x', '-'], ['-', '-', '-'], ['x', '-', 'x']]),\n",
       " [['-', '-', 'x'], ['-', 'x', '-'], ['-', '-', 'x']]: State(pure_state=[['-', '-', 'x'], ['-', 'x', '-'], ['-', '-', 'x']]),\n",
       " [['-', 'x', 'x'], ['-', 'x', '-'], ['-', '-', 'x']]: State(pure_state=[['-', 'x', 'x'], ['-', 'x', '-'], ['-', '-', 'x']]),\n",
       " [['x', '-', '-'], ['-', '-', 'x'], ['-', 'x', 'x']]: State(pure_state=[['x', '-', '-'], ['-', '-', 'x'], ['-', 'x', 'x']]),\n",
       " [['-', '-', 'x'], ['-', '-', '-'], ['-', 'x', 'x']]: State(pure_state=[['-', '-', 'x'], ['-', '-', '-'], ['-', 'x', 'x']]),\n",
       " [['-', '-', 'x'], ['x', '-', '-'], ['-', 'x', 'x']]: State(pure_state=[['-', '-', 'x'], ['x', '-', '-'], ['-', 'x', 'x']]),\n",
       " [['-', '-', '-'], ['x', '-', '-'], ['-', '-', 'x']]: State(pure_state=[['-', '-', '-'], ['x', '-', '-'], ['-', '-', 'x']]),\n",
       " [['-', 'x', '-'], ['x', '-', '-'], ['-', 'x', 'x']]: State(pure_state=[['-', 'x', '-'], ['x', '-', '-'], ['-', 'x', 'x']]),\n",
       " [['-', '-', 'x'], ['x', '-', '-'], ['x', '-', 'x']]: State(pure_state=[['-', '-', 'x'], ['x', '-', '-'], ['x', '-', 'x']]),\n",
       " [['-', 'x', '-'], ['-', '-', 'x'], ['x', '-', 'x']]: State(pure_state=[['-', 'x', '-'], ['-', '-', 'x'], ['x', '-', 'x']]),\n",
       " [['-', 'x', '-'], ['-', 'x', 'x'], ['-', '-', 'x']]: State(pure_state=[['-', 'x', '-'], ['-', 'x', 'x'], ['-', '-', 'x']]),\n",
       " [['x', '-', '-'], ['-', '-', '-'], ['-', 'x', 'x']]: State(pure_state=[['x', '-', '-'], ['-', '-', '-'], ['-', 'x', 'x']]),\n",
       " [['x', '-', '-'], ['-', '-', 'x'], ['-', '-', '-']]: State(pure_state=[['x', '-', '-'], ['-', '-', 'x'], ['-', '-', '-']]),\n",
       " [['x', '-', 'x'], ['-', '-', 'x'], ['-', '-', '-']]: State(pure_state=[['x', '-', 'x'], ['-', '-', 'x'], ['-', '-', '-']]),\n",
       " [['x', '-', 'x'], ['-', 'x', 'x'], ['-', '-', '-']]: State(pure_state=[['x', '-', 'x'], ['-', 'x', 'x'], ['-', '-', '-']]),\n",
       " [['x', '-', 'x'], ['-', 'x', '-'], ['-', '-', '-']]: State(pure_state=[['x', '-', 'x'], ['-', 'x', '-'], ['-', '-', '-']]),\n",
       " [['-', 'x', '-'], ['-', '-', '-'], ['-', '-', 'x']]: State(pure_state=[['-', 'x', '-'], ['-', '-', '-'], ['-', '-', 'x']]),\n",
       " [['-', 'x', 'x'], ['-', '-', '-'], ['-', 'x', 'x']]: State(pure_state=[['-', 'x', 'x'], ['-', '-', '-'], ['-', 'x', 'x']]),\n",
       " [['-', 'x', '-'], ['-', 'x', 'x'], ['x', '-', 'x']]: State(pure_state=[['-', 'x', '-'], ['-', 'x', 'x'], ['x', '-', 'x']]),\n",
       " [['-', '-', '-'], ['x', 'x', '-'], ['-', '-', 'x']]: State(pure_state=[['-', '-', '-'], ['x', 'x', '-'], ['-', '-', 'x']]),\n",
       " [['-', 'x', '-'], ['x', 'x', '-'], ['-', '-', 'x']]: State(pure_state=[['-', 'x', '-'], ['x', 'x', '-'], ['-', '-', 'x']]),\n",
       " [['-', 'x', '-'], ['x', '-', '-'], ['-', '-', 'x']]: State(pure_state=[['-', 'x', '-'], ['x', '-', '-'], ['-', '-', 'x']]),\n",
       " [['-', '-', 'x'], ['-', 'x', '-'], ['-', 'x', 'x']]: State(pure_state=[['-', '-', 'x'], ['-', 'x', '-'], ['-', 'x', 'x']]),\n",
       " [['x', '-', '-'], ['x', '-', 'x'], ['-', 'x', 'x']]: State(pure_state=[['x', '-', '-'], ['x', '-', 'x'], ['-', 'x', 'x']]),\n",
       " [['x', '-', 'x'], ['x', '-', '-'], ['-', '-', 'x']]: State(pure_state=[['x', '-', 'x'], ['x', '-', '-'], ['-', '-', 'x']]),\n",
       " [['x', '-', 'x'], ['-', '-', '-'], ['-', 'x', 'x']]: State(pure_state=[['x', '-', 'x'], ['-', '-', '-'], ['-', 'x', 'x']]),\n",
       " [['-', '-', '-'], ['x', 'x', '-'], ['-', 'x', 'x']]: State(pure_state=[['-', '-', '-'], ['x', 'x', '-'], ['-', 'x', 'x']]),\n",
       " [['-', '-', 'x'], ['x', 'x', '-'], ['-', 'x', 'x']]: State(pure_state=[['-', '-', 'x'], ['x', 'x', '-'], ['-', 'x', 'x']]),\n",
       " [['-', 'x', 'x'], ['-', '-', '-'], ['-', '-', 'x']]: State(pure_state=[['-', 'x', 'x'], ['-', '-', '-'], ['-', '-', 'x']]),\n",
       " [['-', 'x', 'x'], ['x', '-', '-'], ['x', '-', 'x']]: State(pure_state=[['-', 'x', 'x'], ['x', '-', '-'], ['x', '-', 'x']]),\n",
       " [['-', 'x', 'x'], ['x', '-', '-'], ['-', '-', 'x']]: State(pure_state=[['-', 'x', 'x'], ['x', '-', '-'], ['-', '-', 'x']]),\n",
       " [['x', '-', 'x'], ['-', '-', '-'], ['-', '-', 'x']]: State(pure_state=[['x', '-', 'x'], ['-', '-', '-'], ['-', '-', 'x']]),\n",
       " [['x', '-', '-'], ['x', '-', '-'], ['-', 'x', 'x']]: State(pure_state=[['x', '-', '-'], ['x', '-', '-'], ['-', 'x', 'x']])}"
      ]
     },
     "execution_count": 11,
     "metadata": {},
     "output_type": "execute_result"
    }
   ],
   "source": [
    "strategy.states"
   ]
  },
  {
   "cell_type": "code",
   "execution_count": 12,
   "metadata": {},
   "outputs": [],
   "source": [
    "game = Game(strategy)"
   ]
  },
  {
   "cell_type": "code",
   "execution_count": 13,
   "metadata": {},
   "outputs": [
    {
     "name": "stdout",
     "output_type": "stream",
     "text": [
      "Exploring the state:\n",
      "[['-', '-', '-'], ['-', '-', '-'], ['-', '-', '-']]\n",
      "Actions: {(0, 0): 0.0, (0, 1): 0.0, (0, 2): 0.0, (1, 0): 0.0, (1, 1): 0.0, (1, 2): 0.0, (2, 0): 0.0, (2, 1): 0.0, (2, 2): 0.23255452286649378}\n",
      "Hits: {(0, 0): 10, (0, 1): 5, (0, 2): 6, (1, 0): 6, (1, 1): 5, (1, 2): 8, (2, 0): 9, (2, 1): 10, (2, 2): 441}\n",
      "Random samples chosen: {(0, 0): 0.0, (0, 1): 0.0, (0, 2): 0.0, (1, 0): 0.0, (1, 1): 0.0, (1, 2): 0.0, (2, 0): 0.0, (2, 1): 0.0, (2, 2): 0.24744897959183673}\n",
      "Action to take: (2, 2)\n"
     ]
    },
    {
     "data": {
      "image/png": "[encoded data removed]",
      "text/plain": [
       "<Figure size 432x288 with 1 Axes>"
      ]
     },
     "metadata": {
      "needs_background": "light"
     },
     "output_type": "display_data"
    },
    {
     "name": "stdout",
     "output_type": "stream",
     "text": [
      "Exploring the state:\n",
      "[['-', '-', '-'], ['-', '-', '-'], ['-', '-', 'x']]\n",
      "Actions: {(0, 0): 0.49560117302052786, (0, 1): 0.0, (0, 2): 0.46551724137931033, (1, 0): 0.08333333333333333, (1, 1): 0.005681818181818182, (1, 2): 0.060227272727272727, (2, 0): 0.20364583333333333, (2, 1): 0.46875, (2, 2): 0.16666666666666666}\n",
      "Hits: {(0, 0): 341, (0, 1): 5, (0, 2): 29, (1, 0): 12, (1, 1): 11, (1, 2): 11, (2, 0): 16, (2, 1): 16, (2, 2): 9}\n",
      "Random samples chosen: {(0, 0): 0.5, (0, 1): 0.0, (0, 2): 0.5, (1, 0): 0, (1, 1): 0.0, (1, 2): 0.5, (2, 0): 0.5, (2, 1): 0.5, (2, 2): 0.125}\n",
      "Action to take: (0, 0)\n"
     ]
    },
    {
     "data": {
      "image/png": "[encoded data removed]",
      "text/plain": [
       "<Figure size 432x288 with 1 Axes>"
      ]
     },
     "metadata": {
      "needs_background": "light"
     },
     "output_type": "display_data"
    },
    {
     "name": "stdout",
     "output_type": "stream",
     "text": [
      "Exploring the state:\n",
      "[['x', '-', '-'], ['-', '-', '-'], ['-', '-', 'x']]\n",
      "Actions: {(0, 0): 0.42857142857142855, (0, 1): 0.4166666666666667, (0, 2): 0.25, (1, 0): 0.38461538461538464, (1, 1): 1.0, (1, 2): 0.3333333333333333, (2, 0): 0.4666666666666667, (2, 1): 0.45, (2, 2): 0.4}\n",
      "Hits: {(0, 0): 7, (0, 1): 12, (0, 2): 6, (1, 0): 13, (1, 1): 276, (1, 2): 9, (2, 0): 15, (2, 1): 10, (2, 2): 5}\n",
      "Random samples chosen: {(0, 0): 0.5, (0, 1): 0, (0, 2): 0.0, (1, 0): 0.5, (1, 1): 1, (1, 2): 0.0, (2, 0): 0.5, (2, 1): 0.5, (2, 2): 0.5}\n",
      "Action to take: (1, 1)\n"
     ]
    },
    {
     "data": {
      "image/png": "[encoded data removed]",
      "text/plain": [
       "<Figure size 432x288 with 1 Axes>"
      ]
     },
     "metadata": {
      "needs_background": "light"
     },
     "output_type": "display_data"
    }
   ],
   "source": [
    "game.play()"
   ]
  },
  {
   "cell_type": "code",
   "execution_count": 6,
   "metadata": {},
   "outputs": [
    {
     "data": {
      "text/plain": [
       "{'winner': 'x', 'turn': 1, 'board': [['x', '-', 'x'], ['-', 'x', '-'], ['x', 'x', '-']]}"
      ]
     },
     "execution_count": 6,
     "metadata": {},
     "output_type": "execute_result"
    }
   ],
   "source": [
    "game.data"
   ]
  },
  {
   "cell_type": "code",
   "execution_count": null,
   "metadata": {},
   "outputs": [],
   "source": []
  }
 ],
 "metadata": {
  "kernelspec": {
   "display_name": "Python 3",
   "language": "python",
   "name": "python3"
  },
  "language_info": {
   "codemirror_mode": {
    "name": "ipython",
    "version": 3
   },
   "file_extension": ".py",
   "mimetype": "text/x-python",
   "name": "python",
   "nbconvert_exporter": "python",
   "pygments_lexer": "ipython3",
   "version": "3.8.3"
  }
 },
 "nbformat": 4,
 "nbformat_minor": 4
}
