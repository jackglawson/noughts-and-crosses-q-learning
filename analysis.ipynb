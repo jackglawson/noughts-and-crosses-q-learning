{
 "cells": [
  {
   "cell_type": "code",
   "execution_count": 22,
   "metadata": {},
   "outputs": [],
   "source": [
    "import pickle\n",
    "from strategy import *\n",
    "from n_and_c_game_dependents import *\n",
    "from game import *\n",
    "from n_and_c_params import *"
   ]
  },
  {
   "cell_type": "code",
   "execution_count": 115,
   "metadata": {},
   "outputs": [],
   "source": [
    "with open(\"learning_strategies.pkl\", \"rb\") as file:\n",
    "    strategies = pickle.load(file)\n",
    "    \n",
    "strategy_x, strategy_o = strategies\n",
    "strategy_random = RandomStrategy()"
   ]
  },
  {
   "cell_type": "code",
   "execution_count": 116,
   "metadata": {},
   "outputs": [
    {
     "data": {
      "text/plain": [
       "10000"
      ]
     },
     "execution_count": 116,
     "metadata": {},
     "output_type": "execute_result"
    }
   ],
   "source": [
    "len(strategy_x.states[PureState([['-', '-', '-'], ['-', '-', '-'], ['-', '-', '-']])].history)"
   ]
  },
  {
   "cell_type": "code",
   "execution_count": 117,
   "metadata": {},
   "outputs": [
    {
     "data": {
      "text/plain": [
       "StrategyParams(start_q=0, random_action_rate=0.4, discount_rate=1, next_state_is_predictable=False, predictive=True)"
      ]
     },
     "execution_count": 117,
     "metadata": {},
     "output_type": "execute_result"
    }
   ],
   "source": [
    "strategy_x.p"
   ]
  },
  {
   "cell_type": "code",
   "execution_count": 118,
   "metadata": {},
   "outputs": [
    {
     "data": {
      "text/plain": [
       "StrategyParams(start_q=0, random_action_rate=0.4, discount_rate=1, next_state_is_predictable=False, predictive=True)"
      ]
     },
     "execution_count": 118,
     "metadata": {},
     "output_type": "execute_result"
    }
   ],
   "source": [
    "strategy_o.p"
   ]
  },
  {
   "cell_type": "code",
   "execution_count": 119,
   "metadata": {},
   "outputs": [],
   "source": [
    "N = 10000\n",
    "x_win = 0\n",
    "o_win = 0\n",
    "draw = 0\n",
    "\n",
    "for _ in range(N):\n",
    "#     game = Game(2, [strategy_x, strategy_random])\n",
    "    game = Game(2, [strategy_random, strategy_o])\n",
    "    game.play(learning=False, narrate=False, explain=False)\n",
    "    if game.data.winner == \"x\":\n",
    "        x_win += 1\n",
    "    elif game.data.winner == \"o\":\n",
    "        o_win += 1\n",
    "    else:\n",
    "        draw += 1"
   ]
  },
  {
   "cell_type": "code",
   "execution_count": 120,
   "metadata": {},
   "outputs": [
    {
     "data": {
      "image/png": "[encoded data removed]",
      "text/plain": [
       "<Figure size 360x360 with 1 Axes>"
      ]
     },
     "metadata": {},
     "output_type": "display_data"
    }
   ],
   "source": [
    "def make_autopct(values):\n",
    "    def my_autopct(pct):\n",
    "        total = sum(values)\n",
    "        val = int(round(pct*total/100.0))\n",
    "        return '{p:.1f}%  ({v:d})'.format(p=pct,v=val)\n",
    "    return my_autopct\n",
    "\n",
    "fig = plt.figure(figsize=(5, 5))\n",
    "values = [x_win, o_win, draw]\n",
    "# plt.title(\"Game results \\nX: random \\nO: learning strategy with 10,000 epochs\")\n",
    "plt.pie(values, labels=[\"X win\", \"O win\", \"draw\"], autopct=make_autopct(values), radius=1)\n",
    "plt.show()\n",
    "# fig.savefig(\"figs/x_100000_vs_random.png\")"
   ]
  },
  {
   "cell_type": "code",
   "execution_count": 96,
   "metadata": {},
   "outputs": [],
   "source": [
    "fig.savefig(\"best\")"
   ]
  },
  {
   "cell_type": "code",
   "execution_count": null,
   "metadata": {},
   "outputs": [],
   "source": []
  }
 ],
 "metadata": {
  "kernelspec": {
   "display_name": "Python 3",
   "language": "python",
   "name": "python3"
  },
  "language_info": {
   "codemirror_mode": {
    "name": "ipython",
    "version": 3
   },
   "file_extension": ".py",
   "mimetype": "text/x-python",
   "name": "python",
   "nbconvert_exporter": "python",
   "pygments_lexer": "ipython3",
   "version": "3.8.3"
  }
 },
 "nbformat": 4,
 "nbformat_minor": 4
}
